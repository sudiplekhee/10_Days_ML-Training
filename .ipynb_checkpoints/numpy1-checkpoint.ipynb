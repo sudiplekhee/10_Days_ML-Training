{
 "cells": [
  {
   "cell_type": "markdown",
   "id": "c3752d03-f64e-46a0-977b-b415982d1ae4",
   "metadata": {},
   "source": [
    "# Learning numpy"
   ]
  },
  {
   "cell_type": "code",
   "execution_count": 1,
   "id": "846c3519-02e2-41a6-8cfa-cc36e73d7a19",
   "metadata": {},
   "outputs": [],
   "source": [
    "import numpy as np"
   ]
  },
  {
   "cell_type": "code",
   "execution_count": 2,
   "id": "b9abea5e-7058-4e85-a041-f5bd8d3d9855",
   "metadata": {},
   "outputs": [],
   "source": [
    "myarr=np.array([9,10,4,5])"
   ]
  },
  {
   "cell_type": "code",
   "execution_count": 3,
   "id": "7b11e1f0-d5b8-4583-bf8c-a1d93b9fc941",
   "metadata": {},
   "outputs": [
    {
     "name": "stdout",
     "output_type": "stream",
     "text": [
      "[ 9 10  4  5]\n"
     ]
    }
   ],
   "source": [
    "print(myarr)"
   ]
  },
  {
   "cell_type": "code",
   "execution_count": 4,
   "id": "f3dd849f-62ea-434b-b21d-8808fbf98f66",
   "metadata": {},
   "outputs": [
    {
     "name": "stdout",
     "output_type": "stream",
     "text": [
      "[1, 2, 3, 4, 5]\n"
     ]
    }
   ],
   "source": [
    "list1 = [1,2,3,4,5]\n",
    "print(list1)"
   ]
  },
  {
   "cell_type": "markdown",
   "id": "ad8511b7-1572-4b53-9592-2cc3493fd70c",
   "metadata": {},
   "source": [
    "# range"
   ]
  },
  {
   "cell_type": "code",
   "execution_count": 5,
   "id": "e711dc5b-9781-4c09-b2da-33c56a760ee0",
   "metadata": {},
   "outputs": [
    {
     "name": "stdout",
     "output_type": "stream",
     "text": [
      "9\n",
      "10\n",
      "4\n",
      "5\n"
     ]
    }
   ],
   "source": [
    "for i in myarr:\n",
    "    print(i)"
   ]
  },
  {
   "cell_type": "code",
   "execution_count": 6,
   "id": "76c83293-0648-4635-92d8-c63b3a0c183f",
   "metadata": {},
   "outputs": [
    {
     "name": "stdout",
     "output_type": "stream",
     "text": [
      "0\n",
      "1\n",
      "2\n",
      "3\n",
      "4\n",
      "5\n",
      "6\n",
      "7\n",
      "8\n",
      "9\n",
      "10\n",
      "11\n",
      "12\n",
      "13\n",
      "14\n",
      "15\n",
      "16\n",
      "17\n",
      "18\n",
      "19\n",
      "20\n"
     ]
    }
   ],
   "source": [
    "for i in range(0,21):\n",
    "    print(i)"
   ]
  },
  {
   "cell_type": "code",
   "execution_count": 7,
   "id": "cb4f9c1d-be52-4250-8f40-f678156dd7a1",
   "metadata": {},
   "outputs": [
    {
     "name": "stdout",
     "output_type": "stream",
     "text": [
      "[ 0  1  2  3  4  5  6  7  8  9 10 11 12 13 14 15 16 17 18 19 20]\n"
     ]
    }
   ],
   "source": [
    "arr2 = np.arange(0,21)\n",
    "print(arr2)"
   ]
  },
  {
   "cell_type": "code",
   "execution_count": 8,
   "id": "2a501e2c-b5f5-4e35-8d36-b750243c7d0a",
   "metadata": {},
   "outputs": [
    {
     "name": "stdout",
     "output_type": "stream",
     "text": [
      "[0, 1, 2, 3, 4, 5, 6, 7, 8, 9, 10, 11, 12, 13, 14, 15, 16, 17, 18, 19, 20]\n"
     ]
    }
   ],
   "source": [
    "list2 = [i for i in range(0,21)]\n",
    "print(list2)"
   ]
  },
  {
   "cell_type": "markdown",
   "id": "c88a845e-7913-43b3-895d-d00cdf762d00",
   "metadata": {},
   "source": [
    "# random"
   ]
  },
  {
   "cell_type": "code",
   "execution_count": 9,
   "id": "2095ea46-7527-492f-8eda-9b5832af07b8",
   "metadata": {},
   "outputs": [],
   "source": [
    "# rand  - generate between 0 and 1\n",
    "# randn - generate close to 0\n",
    "# randint - genrate integer value"
   ]
  },
  {
   "cell_type": "code",
   "execution_count": 10,
   "id": "d30be81f-183e-47dd-ab16-143ab6e49901",
   "metadata": {},
   "outputs": [
    {
     "name": "stdout",
     "output_type": "stream",
     "text": [
      "[0.56237509 0.46499374 0.73639429]\n"
     ]
    }
   ],
   "source": [
    "array_rand = np.random.rand(3)\n",
    "print(array_rand)"
   ]
  },
  {
   "cell_type": "code",
   "execution_count": 11,
   "id": "beb85a9e-b0b2-468c-b07c-284df8d58c79",
   "metadata": {},
   "outputs": [
    {
     "name": "stdout",
     "output_type": "stream",
     "text": [
      "[[0.72789304 0.34126659 0.52477621]\n",
      " [0.7645654  0.20036641 0.3984935 ]\n",
      " [0.69498187 0.49814284 0.47194248]]\n"
     ]
    }
   ],
   "source": [
    "array_rand = np.random.rand(3,3)\n",
    "print(array_rand)"
   ]
  },
  {
   "cell_type": "code",
   "execution_count": 12,
   "id": "a84142cc-6572-42c7-acb5-8bd67ffb4a46",
   "metadata": {},
   "outputs": [
    {
     "name": "stdout",
     "output_type": "stream",
     "text": [
      "[-1.61479047 -0.54799078  2.10346473 -0.93983675  0.17117167]\n"
     ]
    }
   ],
   "source": [
    "array_randn=np.random.randn(5)\n",
    "print(array_randn)"
   ]
  },
  {
   "cell_type": "code",
   "execution_count": 13,
   "id": "59e00491-ab90-4798-b7ce-47a40d6ca9fd",
   "metadata": {},
   "outputs": [
    {
     "name": "stdout",
     "output_type": "stream",
     "text": [
      "[[ 0.4757908  -2.21917612  0.40300887 -1.43049549]\n",
      " [ 0.62698784  0.79054168  0.20495711  0.93732097]\n",
      " [ 0.54182436  1.19309644  1.96991347  0.96438378]\n",
      " [ 0.05123352 -0.12538347  1.22011689  1.8298009 ]\n",
      " [ 1.0571198  -1.15272889 -0.25542    -1.437764  ]]\n"
     ]
    }
   ],
   "source": [
    "array_randn=np.random.randn(5,4)\n",
    "print(array_randn)"
   ]
  },
  {
   "cell_type": "code",
   "execution_count": 14,
   "id": "9dd76255-ec01-4014-bad9-7fff5a0c6e8d",
   "metadata": {},
   "outputs": [
    {
     "name": "stdout",
     "output_type": "stream",
     "text": [
      "[ 3 19 10  0  7]\n"
     ]
    }
   ],
   "source": [
    "array_randint=np.random.randint(0,20,size=5) #(start,stop,size)\n",
    "print(array_randint)"
   ]
  },
  {
   "cell_type": "code",
   "execution_count": 15,
   "id": "46441f30-e2f3-4dff-aa68-bd0581a5e85d",
   "metadata": {},
   "outputs": [
    {
     "name": "stdout",
     "output_type": "stream",
     "text": [
      "[[ 4 16  7  1 13  7  8 14  7  4]\n",
      " [14 12 14 19 18  7 16  7  5 12]\n",
      " [ 7 14  0  2 14  9 11  1  6 11]\n",
      " [ 0 15  6  5  0  1 16  3  5  1]\n",
      " [10  2 10 17 17 15  9 11  8 19]]\n"
     ]
    }
   ],
   "source": [
    "array_randint=np.random.randint(0,20,size=(5,10)) #(start,stop,size)\n",
    "print(array_randint)"
   ]
  },
  {
   "cell_type": "code",
   "execution_count": 16,
   "id": "47bdf533-f699-46c9-886c-c635eddc4a4a",
   "metadata": {},
   "outputs": [
    {
     "name": "stdout",
     "output_type": "stream",
     "text": [
      "hello\n"
     ]
    }
   ],
   "source": [
    "print(\"hello\")"
   ]
  },
  {
   "cell_type": "markdown",
   "id": "749eb633-3e0b-4494-988a-cda86f7a3c85",
   "metadata": {},
   "source": [
    "# Dimension in array"
   ]
  },
  {
   "cell_type": "code",
   "execution_count": 17,
   "id": "a6e0731a-9cb9-4682-8dbb-dd7154b895ab",
   "metadata": {},
   "outputs": [
    {
     "name": "stdout",
     "output_type": "stream",
     "text": [
      "1\n"
     ]
    }
   ],
   "source": [
    "array1=np.array([1,2,3,4,5,6])\n",
    "#to check the dimension in array\n",
    "#we use ndim function\n",
    "print(array1.ndim)"
   ]
  },
  {
   "cell_type": "code",
   "execution_count": 18,
   "id": "6089e233-3ab8-4676-b0a8-eba41a4db81d",
   "metadata": {},
   "outputs": [
    {
     "name": "stdout",
     "output_type": "stream",
     "text": [
      "2\n"
     ]
    }
   ],
   "source": [
    "array2=np.array([[1,2,3,4],[5,6,7,8]])\n",
    "#check the dimension of this array\n",
    "print(array2.ndim)"
   ]
  },
  {
   "cell_type": "code",
   "execution_count": 19,
   "id": "bf3c9b24-2af8-4f1e-9eb9-95605607c2a7",
   "metadata": {},
   "outputs": [
    {
     "name": "stdout",
     "output_type": "stream",
     "text": [
      "3\n"
     ]
    }
   ],
   "source": [
    "array3=np.array([[[1,2,3],[4,5,6],[7,8,9]]])\n",
    "print(array3.ndim)"
   ]
  },
  {
   "cell_type": "markdown",
   "id": "2e33ab20-471b-4be1-ab8c-72d0512f63f4",
   "metadata": {},
   "source": [
    "# To make the array dimension by desire"
   ]
  },
  {
   "cell_type": "code",
   "execution_count": 20,
   "id": "c44b4295-b848-47d5-8a7a-6fc0e447e38b",
   "metadata": {},
   "outputs": [
    {
     "name": "stdout",
     "output_type": "stream",
     "text": [
      "[[1 2 3 4]]\n"
     ]
    }
   ],
   "source": [
    "#ndmin\n",
    "array_d= np.array([1,2,3,4],ndmin=2) #two dimensional array banaucha ndmin=2 garda\n",
    "print(array_d)"
   ]
  },
  {
   "cell_type": "code",
   "execution_count": 21,
   "id": "466df797-bb83-42c1-b954-35b037637fe3",
   "metadata": {},
   "outputs": [
    {
     "name": "stdout",
     "output_type": "stream",
     "text": [
      "[[[[[[[[[[1 2 3 4 5]]]]]]]]]]\n"
     ]
    }
   ],
   "source": [
    "#create 10 dimensional array\n",
    "array_d=np.array([1,2,3,4,5],ndmin=10)\n",
    "print(array_d)"
   ]
  },
  {
   "cell_type": "markdown",
   "id": "dfdfce0f-6c3a-43d8-884f-4a585ca90e87",
   "metadata": {},
   "source": [
    "# Some functions in numpy"
   ]
  },
  {
   "cell_type": "code",
   "execution_count": 22,
   "id": "fdad0c92-12b3-4db7-a536-66f253f7083a",
   "metadata": {},
   "outputs": [
    {
     "name": "stdout",
     "output_type": "stream",
     "text": [
      "[0. 0. 0.]\n"
     ]
    }
   ],
   "source": [
    "#zeros\n",
    "#ones\n",
    "#identity\n",
    "zero_arr=np.zeros(3)\n",
    "print(zero_arr)"
   ]
  },
  {
   "cell_type": "code",
   "execution_count": 23,
   "id": "59bb2bb3-b9aa-44e6-8bd8-a25cc6db1e18",
   "metadata": {},
   "outputs": [
    {
     "name": "stdout",
     "output_type": "stream",
     "text": [
      "[1. 1. 1. 1. 1. 1. 1. 1. 1. 1.]\n"
     ]
    }
   ],
   "source": [
    "one=np.ones(10)\n",
    "print(one)"
   ]
  },
  {
   "cell_type": "code",
   "execution_count": 24,
   "id": "27628f66-1f16-484c-9e3a-3b1eb726422b",
   "metadata": {},
   "outputs": [
    {
     "name": "stdout",
     "output_type": "stream",
     "text": [
      "[[1. 0. 0. 0.]\n",
      " [0. 1. 0. 0.]\n",
      " [0. 0. 1. 0.]\n",
      " [0. 0. 0. 1.]]\n"
     ]
    }
   ],
   "source": [
    "array_identity=np.identity(4)\n",
    "print(array_identity)"
   ]
  },
  {
   "cell_type": "code",
   "execution_count": 25,
   "id": "4eb5737b-50b9-4578-ae91-dc3a81a3e1fe",
   "metadata": {},
   "outputs": [
    {
     "name": "stdout",
     "output_type": "stream",
     "text": [
      "[[0. 0.]\n",
      " [0. 0.]]\n"
     ]
    }
   ],
   "source": [
    "# Two dimesional zero of size 2 rows and 2 column \n",
    "array_zero=np.zeros((2,2))\n",
    "print(array_zero)"
   ]
  },
  {
   "cell_type": "code",
   "execution_count": 26,
   "id": "b03b004f-72fb-4c2a-8930-9cda3b6eb3ab",
   "metadata": {},
   "outputs": [
    {
     "name": "stdout",
     "output_type": "stream",
     "text": [
      "[[1. 1. 1. 1. 1. 1.]\n",
      " [1. 1. 1. 1. 1. 1.]\n",
      " [1. 1. 1. 1. 1. 1.]\n",
      " [1. 1. 1. 1. 1. 1.]\n",
      " [1. 1. 1. 1. 1. 1.]]\n"
     ]
    }
   ],
   "source": [
    "#5 rows and 6 colunms of one\n",
    "array_ones=np.ones((5,6))\n",
    "print(array_ones)"
   ]
  },
  {
   "cell_type": "code",
   "execution_count": 27,
   "id": "e94cc22d-3da0-4ce8-ba38-1d00f5732b9a",
   "metadata": {},
   "outputs": [
    {
     "name": "stdout",
     "output_type": "stream",
     "text": [
      "[[1. 0. 0. 0. 0. 0. 0. 0. 0. 0.]\n",
      " [0. 1. 0. 0. 0. 0. 0. 0. 0. 0.]\n",
      " [0. 0. 1. 0. 0. 0. 0. 0. 0. 0.]\n",
      " [0. 0. 0. 1. 0. 0. 0. 0. 0. 0.]\n",
      " [0. 0. 0. 0. 1. 0. 0. 0. 0. 0.]\n",
      " [0. 0. 0. 0. 0. 1. 0. 0. 0. 0.]\n",
      " [0. 0. 0. 0. 0. 0. 1. 0. 0. 0.]\n",
      " [0. 0. 0. 0. 0. 0. 0. 1. 0. 0.]\n",
      " [0. 0. 0. 0. 0. 0. 0. 0. 1. 0.]\n",
      " [0. 0. 0. 0. 0. 0. 0. 0. 0. 1.]]\n"
     ]
    }
   ],
   "source": [
    "# identity matrix\n",
    "#eye\n",
    "array_identity=np.eye(10)\n",
    "print(array_identity)"
   ]
  },
  {
   "cell_type": "markdown",
   "id": "5f17530d-ed2e-4c3a-85e5-4598dfcd4a95",
   "metadata": {},
   "source": [
    "# Arithmatic operation in numpy\n"
   ]
  },
  {
   "cell_type": "code",
   "execution_count": 28,
   "id": "3fbb0469-41cd-46e2-be1f-475d35e69940",
   "metadata": {},
   "outputs": [
    {
     "data": {
      "text/plain": [
       "array([6, 7, 8, 9])"
      ]
     },
     "execution_count": 28,
     "metadata": {},
     "output_type": "execute_result"
    }
   ],
   "source": [
    "array_1=np.array([1,2,3,4])\n",
    "#perform addition operation with 5\n",
    "array_1 + 5\n"
   ]
  },
  {
   "cell_type": "code",
   "execution_count": 29,
   "id": "8c63d474-b7f7-4b4d-b05b-f110055cb865",
   "metadata": {},
   "outputs": [
    {
     "name": "stdout",
     "output_type": "stream",
     "text": [
      "Addition of array1 and array2 is:[ 4  6  8 10]\n"
     ]
    }
   ],
   "source": [
    "#create two array and perform\n",
    "#addition,substraction,multiplication and division\n",
    "\n",
    "array1=np.array([1,2,3,4])\n",
    "array2=np.array([3,4,5,6])\n",
    "# print(\"Addition of array1 and array2 is:\",array1+array2)\n",
    "print(f\"Addition of array1 and array2 is:{array1+array2}\")\n",
    "# print(\"substraction of array1 and array2 is:\",array1-array2)\n",
    "# print(\"multiplication of array1 and array2 is:\",array1*array2)\n",
    "# print(\"division of array1 and array2 is:\",array1/array2)\n",
    "\n",
    "\n"
   ]
  },
  {
   "cell_type": "code",
   "execution_count": 30,
   "id": "e8657cf1-2182-47d4-be96-65c0a83b1e0f",
   "metadata": {},
   "outputs": [
    {
     "name": "stdout",
     "output_type": "stream",
     "text": [
      "[[4 9 3]\n",
      " [6 6 3]\n",
      " [9 7 1]]\n",
      "[[9 3 3]\n",
      " [5 6 8]\n",
      " [1 1 1]]\n",
      "addition:[[13 12  6]\n",
      " [11 12 11]\n",
      " [10  8  2]]\n",
      "substraction:[[-5  6  0]\n",
      " [ 1  0 -5]\n",
      " [ 8  6  0]]\n",
      "multiplication:[[36 27  9]\n",
      " [30 36 24]\n",
      " [ 9  7  1]]\n",
      "divison:[[0.44444444 3.         1.        ]\n",
      " [1.2        1.         0.375     ]\n",
      " [9.         7.         1.        ]]\n"
     ]
    }
   ],
   "source": [
    "#First generate the 2 dimensional array using randint and perform all four operation\n",
    "array=np.random.randint(1,10,  size=(3,3))\n",
    "array1=np.random.randint(1,10, size=(3,3))\n",
    "\n",
    "print(array)\n",
    "print(array1)\n",
    "print(f\"addition:{array+array1}\")\n",
    "print(f\"substraction:{array-array1}\")\n",
    "print(f\"multiplication:{array*array1}\")\n",
    "print(f\"divison:{array/array1}\")"
   ]
  },
  {
   "cell_type": "markdown",
   "id": "aa7872fe-cb90-4f53-aa52-4bfc8684aa13",
   "metadata": {},
   "source": [
    "# Slicing operation in"
   ]
  },
  {
   "cell_type": "code",
   "execution_count": 31,
   "id": "fa85ab56-4fae-43a8-a80b-be21ea8f3db6",
   "metadata": {},
   "outputs": [
    {
     "name": "stdout",
     "output_type": "stream",
     "text": [
      "[5 6 7]\n"
     ]
    }
   ],
   "source": [
    "#arrayname[start_value:stop_value:step]\n",
    "arr1=np.arange(10)\n",
    "print(arr1[5:8])"
   ]
  },
  {
   "cell_type": "code",
   "execution_count": 32,
   "id": "31fdbba4-c9db-48f5-aa30-2a8e1b1df801",
   "metadata": {},
   "outputs": [],
   "source": [
    "# 0 to 20\n",
    "array1=np.arange(20)\n",
    "# print(array1[0:20:2])\n",
    "# print(array1[::2])"
   ]
  },
  {
   "cell_type": "code",
   "execution_count": 33,
   "id": "13b86ac8-1c5c-481e-b710-42cff2259db3",
   "metadata": {},
   "outputs": [
    {
     "name": "stdout",
     "output_type": "stream",
     "text": [
      "[[1 2 3 4]\n",
      " [5 6 7 8]]\n"
     ]
    }
   ],
   "source": [
    "#slicing in 2d array\n",
    "array_2d=np.array([[1,2,3,4],[5,6,7,8]])\n",
    "print(array_2d)"
   ]
  },
  {
   "cell_type": "code",
   "execution_count": 34,
   "id": "78e9091d-cd98-466f-a333-f5da343df388",
   "metadata": {},
   "outputs": [
    {
     "name": "stdout",
     "output_type": "stream",
     "text": [
      "[[2 3]]\n"
     ]
    }
   ],
   "source": [
    "print(array_2d[0:1,1:3])"
   ]
  },
  {
   "cell_type": "code",
   "execution_count": 35,
   "id": "23a1fa30-918a-49d3-8c41-94c348f2dd38",
   "metadata": {},
   "outputs": [
    {
     "name": "stdout",
     "output_type": "stream",
     "text": [
      "[[ 9  8  7  6]\n",
      " [23 45 67 78]]\n",
      "[[45 67]]\n"
     ]
    }
   ],
   "source": [
    "array_2d=np.array([[9,8,7,6],[23,45,67,78]])\n",
    "print(array_2d)\n",
    "print(array_2d[1:2,1:3])"
   ]
  },
  {
   "cell_type": "code",
   "execution_count": 36,
   "id": "b3568ef5-c625-4532-b123-db6718185116",
   "metadata": {},
   "outputs": [
    {
     "name": "stdout",
     "output_type": "stream",
     "text": [
      "[[ 5  6  7  8]\n",
      " [ 3  4  5  6]\n",
      " [11 12 34 43]]\n",
      "[[ 3  4]\n",
      " [11 12]]\n"
     ]
    }
   ],
   "source": [
    "array_2d1=np.array([[5,6,7,8],[3,4,5,6],[11,12,34,43]])\n",
    "print(array_2d1)\n",
    "print(array_2d1[1:3,0:2])"
   ]
  },
  {
   "cell_type": "markdown",
   "id": "63055f96-30a7-4adb-b0ee-10fb7a15a2a5",
   "metadata": {},
   "source": [
    "# Shaping and reshaping in numpy array"
   ]
  },
  {
   "cell_type": "code",
   "execution_count": 37,
   "id": "cb19e802-c48a-49cd-b3a7-7bb3d90af316",
   "metadata": {},
   "outputs": [
    {
     "data": {
      "text/plain": [
       "(5,)"
      ]
     },
     "execution_count": 37,
     "metadata": {},
     "output_type": "execute_result"
    }
   ],
   "source": [
    "array_2d=np.array([1,2,3,4,5])\n",
    "array_2d.shape"
   ]
  },
  {
   "cell_type": "code",
   "execution_count": 38,
   "id": "39e2819d-0d23-4f1b-9ddf-19bfa370b2e0",
   "metadata": {},
   "outputs": [
    {
     "name": "stdout",
     "output_type": "stream",
     "text": [
      "(3, 4)\n"
     ]
    }
   ],
   "source": [
    "array_2d=np.array([[1,2,3,4],[5,6,7,8],[9,10,11,12]])\n",
    "print(array_2d.shape) #rows and column print garcha"
   ]
  },
  {
   "cell_type": "code",
   "execution_count": 39,
   "id": "a89d3726-4a83-4000-9317-57952560cccc",
   "metadata": {},
   "outputs": [],
   "source": [
    "#reshape is numpy array\n"
   ]
  },
  {
   "cell_type": "code",
   "execution_count": 40,
   "id": "68f3d7f9-6cc1-4cc7-819a-ef5ea6542524",
   "metadata": {},
   "outputs": [
    {
     "data": {
      "text/plain": [
       "array([[1, 2],\n",
       "       [3, 4]])"
      ]
     },
     "execution_count": 40,
     "metadata": {},
     "output_type": "execute_result"
    }
   ],
   "source": [
    "array=np.array([1,2,3,4])\n",
    "array.reshape(2,2) #kati ota cha teti ota halim jasto 2,2"
   ]
  },
  {
   "cell_type": "code",
   "execution_count": 42,
   "id": "3dbfb2a4-2e17-489f-9ce3-15ab19c78d55",
   "metadata": {},
   "outputs": [
    {
     "name": "stdout",
     "output_type": "stream",
     "text": [
      "[ 0  1  2  3  4  5  6  7  8  9 10 11]\n",
      "\n",
      "[[ 0  1  2  3]\n",
      " [ 4  5  6  7]\n",
      " [ 8  9 10 11]]\n",
      "[ 0  1  2  3  4  5  6  7  8  9 10 11]\n"
     ]
    }
   ],
   "source": [
    "#create the array of 12 element using arange function and reshape the array in 4 by 3\n",
    "arr=np.arange(12)\n",
    "print(arr)\n",
    "print()\n",
    "print(arr.reshape(3,4))\n",
    "print(arr.reshape(12))"
   ]
  },
  {
   "cell_type": "code",
   "execution_count": 45,
   "id": "3b6799c1-513f-4af4-a57f-8380e4f9d837",
   "metadata": {},
   "outputs": [
    {
     "name": "stdout",
     "output_type": "stream",
     "text": [
      "<class 'numpy.matrix'>\n"
     ]
    }
   ],
   "source": [
    "mat1=np.matrix([1,2,3])\n",
    "print(type(mat1))"
   ]
  },
  {
   "cell_type": "code",
   "execution_count": 51,
   "id": "3e297097-ee9c-431c-a188-4748d9e49103",
   "metadata": {},
   "outputs": [
    {
     "name": "stdout",
     "output_type": "stream",
     "text": [
      "<class 'numpy.matrix'>\n",
      "multiplication:[[ 9 12]\n",
      " [24 33]]\n"
     ]
    }
   ],
   "source": [
    "mat1=np.matrix([[1,2],[4,5]])\n",
    "mat2=np.matrix([[1,2],[4,5]])\n",
    "print(type(mat1))\n",
    "#create two 2d matrix and perform multiply operation \n",
    "print(f\"multiplication:{mat1*mat2}\")"
   ]
  },
  {
   "cell_type": "code",
   "execution_count": null,
   "id": "06abb386-a90a-4fe9-9771-2a83eb6e4287",
   "metadata": {},
   "outputs": [],
   "source": []
  }
 ],
 "metadata": {
  "kernelspec": {
   "display_name": "Python 3 (ipykernel)",
   "language": "python",
   "name": "python3"
  },
  "language_info": {
   "codemirror_mode": {
    "name": "ipython",
    "version": 3
   },
   "file_extension": ".py",
   "mimetype": "text/x-python",
   "name": "python",
   "nbconvert_exporter": "python",
   "pygments_lexer": "ipython3",
   "version": "3.13.0"
  }
 },
 "nbformat": 4,
 "nbformat_minor": 5
}
