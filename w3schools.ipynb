{
 "cells": [
  {
   "cell_type": "markdown",
   "id": "d6c1787f-a8c3-435c-8d18-5debc0a0d8b3",
   "metadata": {},
   "source": [
    "# Learning Numpy at home"
   ]
  },
  {
   "cell_type": "code",
   "execution_count": 1,
   "id": "0b64f42f-9e91-499c-b592-d6588b4582c7",
   "metadata": {},
   "outputs": [],
   "source": [
    "import numpy as np"
   ]
  },
  {
   "cell_type": "code",
   "execution_count": 2,
   "id": "0d25d449-a278-461e-a920-09800b4ff94f",
   "metadata": {},
   "outputs": [
    {
     "name": "stdout",
     "output_type": "stream",
     "text": [
      "[1 2 3 4 5 6]\n"
     ]
    }
   ],
   "source": [
    "myarr=np.array([1,2,3,4,5,6])\n",
    "print(myarr)"
   ]
  },
  {
   "cell_type": "code",
   "execution_count": 3,
   "id": "76895c0c-e975-4473-8c66-7d6d5ef9b008",
   "metadata": {},
   "outputs": [
    {
     "name": "stdout",
     "output_type": "stream",
     "text": [
      "<class 'numpy.ndarray'>\n"
     ]
    }
   ],
   "source": [
    "print(type(myarr))"
   ]
  },
  {
   "cell_type": "code",
   "execution_count": 4,
   "id": "52372a88-0647-49b9-9741-3fcec15661a9",
   "metadata": {},
   "outputs": [
    {
     "name": "stdout",
     "output_type": "stream",
     "text": [
      "2.3.2\n"
     ]
    }
   ],
   "source": [
    "print(np.__version__)"
   ]
  },
  {
   "cell_type": "code",
   "execution_count": 5,
   "id": "6eaf5d63-9746-4ff6-a67c-be8128c4963d",
   "metadata": {},
   "outputs": [
    {
     "name": "stdout",
     "output_type": "stream",
     "text": [
      "[1 2 3 4 5]\n"
     ]
    }
   ],
   "source": [
    "arr=np.array((1,2,3,4,5))\n",
    "print(arr)"
   ]
  },
  {
   "cell_type": "markdown",
   "id": "6fdf2590-690f-4848-9100-f60cbc596f76",
   "metadata": {},
   "source": [
    "# Create a 0-D array with value 42"
   ]
  },
  {
   "cell_type": "code",
   "execution_count": 6,
   "id": "a61e3e74-5cba-4b82-a458-51d4d731ef83",
   "metadata": {},
   "outputs": [
    {
     "name": "stdout",
     "output_type": "stream",
     "text": [
      "42\n"
     ]
    }
   ],
   "source": [
    "arr=np.array(42)\n",
    "print(arr)"
   ]
  },
  {
   "cell_type": "markdown",
   "id": "e85cdb85-a12c-44d9-ace9-7d1ceff3476e",
   "metadata": {},
   "source": [
    "# Create a 1-D array containing the values 1,2,3,4,5:"
   ]
  },
  {
   "cell_type": "code",
   "execution_count": 7,
   "id": "34bc265c-7e77-4ceb-9bb6-f98ef7e31715",
   "metadata": {},
   "outputs": [
    {
     "name": "stdout",
     "output_type": "stream",
     "text": [
      "[  1   2   3  45 566   7]\n"
     ]
    }
   ],
   "source": [
    "arr=np.array([1,2,3,45,566,7])\n",
    "print(arr)"
   ]
  },
  {
   "cell_type": "markdown",
   "id": "383465e7-1a22-4204-ada7-7a977265002a",
   "metadata": {},
   "source": [
    "# Create a 2-D array containing two arrays with the values 1,2,3 and 4,5,6:"
   ]
  },
  {
   "cell_type": "code",
   "execution_count": 8,
   "id": "fd896705-8ba6-47fc-956d-673149281e75",
   "metadata": {},
   "outputs": [
    {
     "name": "stdout",
     "output_type": "stream",
     "text": [
      "[[1 2 3]\n",
      " [4 5 6]]\n"
     ]
    }
   ],
   "source": [
    "my2darr=np.array([[1,2,3],[4,5,6]])\n",
    "print(my2darr)"
   ]
  },
  {
   "cell_type": "markdown",
   "id": "98583eaf-c461-4032-9d48-4881862191c3",
   "metadata": {},
   "source": [
    "# Create a 3-D array with two 2-D arrays, both containing two arrays with the values 1,2,3 and 4,5,6:"
   ]
  },
  {
   "cell_type": "code",
   "execution_count": 9,
   "id": "00b1fbc0-2ef8-4cda-bf2d-4acb0fbe6b26",
   "metadata": {},
   "outputs": [
    {
     "name": "stdout",
     "output_type": "stream",
     "text": [
      "[[[1 2 3]\n",
      "  [4 5 6]\n",
      "  [7 8 9]]]\n"
     ]
    }
   ],
   "source": [
    "array3=np.array([[[1,2,3],[4,5,6],[7,8,9]]])\n",
    "print(array3)"
   ]
  },
  {
   "cell_type": "markdown",
   "id": "e0f324f3-657f-4cfe-9198-e3f395916414",
   "metadata": {},
   "source": [
    "# Check Number of Dimensions? "
   ]
  },
  {
   "cell_type": "code",
   "execution_count": 10,
   "id": "784e5517-575d-41d4-bb00-189d9800ef44",
   "metadata": {},
   "outputs": [
    {
     "name": "stdout",
     "output_type": "stream",
     "text": [
      "0\n",
      "1\n",
      "2\n",
      "3\n"
     ]
    }
   ],
   "source": [
    "#ndim attribute \n",
    "a=np.array(42)\n",
    "b=np.array([1,2,3])\n",
    "c=np.array([[1,2,3],[4,5,6]])\n",
    "d=np.array([[[1,2,3],[4,5,6],[7,8,9]]])\n",
    "print(a.ndim)\n",
    "print(b.ndim)\n",
    "print(c.ndim)\n",
    "print(d.ndim)\n"
   ]
  },
  {
   "cell_type": "markdown",
   "id": "f8acd902-fcb9-4589-b749-04346621c981",
   "metadata": {},
   "source": [
    "# Create an array with 5 dimensions and verify that it has 5 dimensions:"
   ]
  },
  {
   "cell_type": "code",
   "execution_count": 11,
   "id": "a129e10d-0c10-4811-bd98-98a52bfb5fa3",
   "metadata": {},
   "outputs": [
    {
     "name": "stdout",
     "output_type": "stream",
     "text": [
      "[[[[[1 2 3 4]]]]]\n",
      "number of dimensions : 5\n"
     ]
    }
   ],
   "source": [
    "arr=np.array([1,2,3,4],ndmin=5)\n",
    "print(arr)\n",
    "print('number of dimensions :', arr.ndim)"
   ]
  },
  {
   "cell_type": "markdown",
   "id": "7adefa83-7054-4259-aabd-5be29d761b68",
   "metadata": {},
   "source": [
    "# NumPy Array Indexing"
   ]
  },
  {
   "cell_type": "code",
   "execution_count": 12,
   "id": "2d6df9d3-0285-4a79-b09b-deee4bf2799e",
   "metadata": {},
   "outputs": [
    {
     "name": "stdout",
     "output_type": "stream",
     "text": [
      "3\n"
     ]
    }
   ],
   "source": [
    "arr=np.array([1,2,3,4,5])\n",
    "print(arr[2])"
   ]
  },
  {
   "cell_type": "code",
   "execution_count": 13,
   "id": "0129ffe1-72d5-40c6-a435-372068db434b",
   "metadata": {},
   "outputs": [
    {
     "name": "stdout",
     "output_type": "stream",
     "text": [
      "8\n"
     ]
    }
   ],
   "source": [
    "arr=np.array([1,2,3,4,5])\n",
    "print(arr[2] + arr[4])"
   ]
  },
  {
   "cell_type": "markdown",
   "id": "b7f17190-dafa-41e7-ace1-cd969b730ab5",
   "metadata": {},
   "source": [
    "# Access 2-D Arrays"
   ]
  },
  {
   "cell_type": "code",
   "execution_count": 14,
   "id": "645da27f-ea6a-4ae5-bd85-3e9e9396fe74",
   "metadata": {},
   "outputs": [
    {
     "name": "stdout",
     "output_type": "stream",
     "text": [
      "second element of first row :2 \n"
     ]
    }
   ],
   "source": [
    "arr=np.array([[1,2,3,4],[7,3,4,5]])\n",
    "print(f\"second element of first row :{arr[0,1]} \")"
   ]
  },
  {
   "cell_type": "code",
   "execution_count": 15,
   "id": "72408078-52e0-45df-aaef-caa56ae4e29f",
   "metadata": {},
   "outputs": [
    {
     "name": "stdout",
     "output_type": "stream",
     "text": [
      "second element of first row :10 \n"
     ]
    }
   ],
   "source": [
    "#Second row fifth element\n",
    "arr=np.array([[1,2,3,4,5],[6,7,8,9,10]])\n",
    "print(f\"second element of first row :{arr[1,4]} \")"
   ]
  },
  {
   "cell_type": "code",
   "execution_count": 16,
   "id": "0295cee1-412f-4161-be67-69ed9305fcc0",
   "metadata": {},
   "outputs": [
    {
     "name": "stdout",
     "output_type": "stream",
     "text": [
      "6\n"
     ]
    }
   ],
   "source": [
    "arr = np.array([[[1, 2, 3], [4, 5, 6]], [[7, 8, 9], [10, 11, 12]]])\n",
    "\n",
    "print(arr[0, 1, 2])"
   ]
  },
  {
   "cell_type": "code",
   "execution_count": 17,
   "id": "bec2e50d-88f1-443e-b619-1c0db011b974",
   "metadata": {},
   "outputs": [
    {
     "name": "stdout",
     "output_type": "stream",
     "text": [
      "Last element from 2nd dim:  9\n"
     ]
    }
   ],
   "source": [
    "\n",
    "arr = np.array([[1,2,3,4,5], [6,7,8,9,10]])\n",
    "\n",
    "print('Last element from 2nd dim: ', arr[1, -2])"
   ]
  },
  {
   "cell_type": "markdown",
   "id": "ce5d5e4d-96c0-4f31-94ab-54dd53856e86",
   "metadata": {},
   "source": [
    "# NumPy Array Slicing"
   ]
  },
  {
   "cell_type": "code",
   "execution_count": 18,
   "id": "791c64c2-5f0a-4a88-a7e6-efc60fadfd4b",
   "metadata": {},
   "outputs": [
    {
     "name": "stdout",
     "output_type": "stream",
     "text": [
      "[1 2 3 4 5]\n"
     ]
    }
   ],
   "source": [
    "myarr=np.array([1,2,3,4,5])\n",
    "print(myarr[0:])"
   ]
  },
  {
   "cell_type": "code",
   "execution_count": 19,
   "id": "1ae15dbc-08ce-46aa-a59d-5ad9a2cd8c05",
   "metadata": {},
   "outputs": [
    {
     "name": "stdout",
     "output_type": "stream",
     "text": [
      "[1 2 3 4]\n"
     ]
    }
   ],
   "source": [
    "myarr=np.array([1,2,3,4,5])\n",
    "print(myarr[:4])"
   ]
  },
  {
   "cell_type": "code",
   "execution_count": 20,
   "id": "fa96b8b4-fa98-4038-b7a6-4035bac69320",
   "metadata": {},
   "outputs": [
    {
     "name": "stdout",
     "output_type": "stream",
     "text": [
      "[5 6]\n"
     ]
    }
   ],
   "source": [
    "arr = np.array([1, 2, 3, 4, 5, 6, 7])\n",
    "\n",
    "print(arr[-3:-1])"
   ]
  },
  {
   "cell_type": "code",
   "execution_count": 21,
   "id": "9d1f0ca3-5624-4eaa-b7df-1a4b203d3842",
   "metadata": {},
   "outputs": [
    {
     "name": "stdout",
     "output_type": "stream",
     "text": [
      "[1 3 5]\n"
     ]
    }
   ],
   "source": [
    "myarr=np.array([1,2,3,4,5])\n",
    "print(myarr[0:5:2])"
   ]
  },
  {
   "cell_type": "code",
   "execution_count": 22,
   "id": "bebbd8f6-12ea-4203-8752-b05450d396c3",
   "metadata": {},
   "outputs": [
    {
     "name": "stdout",
     "output_type": "stream",
     "text": [
      "[7 8 9]\n"
     ]
    }
   ],
   "source": [
    "arr = np.array([[1, 2, 3, 4, 5], [6, 7, 8, 9, 10]])\n",
    "\n",
    "print(arr[1, 1:4])"
   ]
  },
  {
   "cell_type": "code",
   "execution_count": 23,
   "id": "20b8471a-6c13-477a-9e2f-f61be4dd44ec",
   "metadata": {},
   "outputs": [
    {
     "name": "stdout",
     "output_type": "stream",
     "text": [
      "[3 8]\n"
     ]
    }
   ],
   "source": [
    "\n",
    "arr = np.array([[1, 2, 3, 4, 5], [6, 7, 8, 9, 10]])\n",
    "\n",
    "print(arr[0:2, 2])"
   ]
  },
  {
   "cell_type": "code",
   "execution_count": 25,
   "id": "2467ebb7-8c66-41f8-8d8d-c140e7df5415",
   "metadata": {},
   "outputs": [
    {
     "name": "stdout",
     "output_type": "stream",
     "text": [
      "[4 2 3 4 5]\n",
      "[1 2 3 4 5]\n"
     ]
    }
   ],
   "source": [
    "arr=np.array([1,2,3,4,5])#copy ma upper part matra change huncha \n",
    "x=arr.copy()\n",
    "arr[0]=4\n",
    "print(arr)\n",
    "print(x)"
   ]
  },
  {
   "cell_type": "code",
   "execution_count": 26,
   "id": "1ea3af9f-4507-49a0-b3c9-788aea86dd03",
   "metadata": {},
   "outputs": [
    {
     "name": "stdout",
     "output_type": "stream",
     "text": [
      "[4 2 3 4 5]\n",
      "[4 2 3 4 5]\n"
     ]
    }
   ],
   "source": [
    "arr=np.array([1,2,3,4,5]) #VIEW VANEKO TALA MATHY DUITAI VALUE SAME AAUCHA\n",
    "x=arr.view()\n",
    "arr[0]=4\n",
    "print(arr)\n",
    "print(x)"
   ]
  },
  {
   "cell_type": "code",
   "execution_count": null,
   "id": "af0d83cf-215d-4f27-88bf-96534a525562",
   "metadata": {},
   "outputs": [],
   "source": []
  }
 ],
 "metadata": {
  "kernelspec": {
   "display_name": "Python 3 (ipykernel)",
   "language": "python",
   "name": "python3"
  },
  "language_info": {
   "codemirror_mode": {
    "name": "ipython",
    "version": 3
   },
   "file_extension": ".py",
   "mimetype": "text/x-python",
   "name": "python",
   "nbconvert_exporter": "python",
   "pygments_lexer": "ipython3",
   "version": "3.13.0"
  }
 },
 "nbformat": 4,
 "nbformat_minor": 5
}
